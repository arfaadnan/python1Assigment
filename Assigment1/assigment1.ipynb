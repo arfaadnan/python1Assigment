{
 "cells": [
  {
   "cell_type": "code",
   "execution_count": 1,
   "id": "d5bbb150-96fd-4e93-9bc5-328408b331dd",
   "metadata": {},
   "outputs": [
    {
     "data": {
      "text/plain": [
       "7"
      ]
     },
     "execution_count": 1,
     "metadata": {},
     "output_type": "execute_result"
    }
   ],
   "source": [
    "# 1. What is the length of the salaries list.\n",
    "salaries = ['20k', '40k', '50k', '60k', '35k', '89k','40k']\n",
    "length=len(salaries)\n",
    "length"
   ]
  },
  {
   "cell_type": "code",
   "execution_count": 2,
   "id": "964b57cd-380e-4ec1-8cba-7b6ea98d07c9",
   "metadata": {
    "scrolled": true
   },
   "outputs": [
    {
     "name": "stdout",
     "output_type": "stream",
     "text": [
      "the third-salary is 50k\n"
     ]
    }
   ],
   "source": [
    "# 2. Retrieve the third salary in the list by using index.\n",
    "salaries = ['20k', '40k', '50k', '60k', '35k', '89k','40k']\n",
    "third_salary=salaries[2]\n",
    "print(\"the third-salary is\",third_salary)"
   ]
  },
  {
   "cell_type": "code",
   "execution_count": 3,
   "id": "6b2f1706-3c5b-41fa-89e8-8f81d48d2e99",
   "metadata": {},
   "outputs": [
    {
     "data": {
      "text/plain": [
       "'40k'"
      ]
     },
     "execution_count": 3,
     "metadata": {},
     "output_type": "execute_result"
    }
   ],
   "source": [
    "# 3. Extract the last salary from the list by using a negative index.\n",
    "salaries = ['20k', '40k', '50k', '60k', '35k', '89k','40k']\n",
    "negative_index=salaries[-1]\n",
    "negative_index"
   ]
  },
  {
   "cell_type": "code",
   "execution_count": 4,
   "id": "036c9ba6-b1f2-4a3f-81e5-8b837440b856",
   "metadata": {},
   "outputs": [
    {
     "data": {
      "text/plain": [
       "['50k', '60k', '35k']"
      ]
     },
     "execution_count": 4,
     "metadata": {},
     "output_type": "execute_result"
    }
   ],
   "source": [
    "# 4. Slice the salaries list to get only the middle three salaries\n",
    "salaries = ['20k', '40k', '50k', '60k', '35k', '89k','40k']\n",
    "slice_method=salaries[2:5]\n",
    "slice_method\n"
   ]
  },
  {
   "cell_type": "code",
   "execution_count": 35,
   "id": "9c90b74a-7287-49ee-8e47-cb6bf434e429",
   "metadata": {},
   "outputs": [
    {
     "name": "stdout",
     "output_type": "stream",
     "text": [
      "new updated salary by using append methid is ['20k', '40k', '50k', '60k', '35k', '89k', '40k', '100k']\n"
     ]
    }
   ],
   "source": [
    "# 5. Add a new salary to the list, ‘100k’ by using append() method.\n",
    "salaries = ['20k', '40k', '50k', '60k', '35k', '89k','40k']\n",
    "salaries.append(\"100k\")\n",
    "print(\"new updated salary by using append methid is\",salaries)"
   ]
  },
  {
   "cell_type": "code",
   "execution_count": 41,
   "id": "8a71ece3-8231-411a-a4aa-80866e342e07",
   "metadata": {},
   "outputs": [
    {
     "name": "stdout",
     "output_type": "stream",
     "text": [
      "new updated salary is ['20k', '40k', '50k', '60k', '35k', '89k', '40k', '120k']\n"
     ]
    }
   ],
   "source": [
    "# 5. Add a new salary to the list, ‘120k’ without method.\n",
    "salaries = ['20k', '40k', '50k', '60k', '35k', '89k','40k']\n",
    "salaries+=[\"120k\"]\n",
    "print(\"new updated salary is\",salaries)"
   ]
  },
  {
   "cell_type": "code",
   "execution_count": 49,
   "id": "59ef1c94-ca51-4a17-9093-688a33996861",
   "metadata": {},
   "outputs": [
    {
     "name": "stdout",
     "output_type": "stream",
     "text": [
      "updated salary is ['20k', '40k', '55k', '60k', '35k', '89k', '40k']\n"
     ]
    }
   ],
   "source": [
    "# 6. Replace the third salary in the list with '55k' and print the updated list.\n",
    "salaries = ['20k', '40k', '50k', '60k', '35k', '89k','40k']\n",
    "salaries[2] =(\"55k\")\n",
    "print(\"updated salary is\",salaries)"
   ]
  },
  {
   "cell_type": "code",
   "execution_count": 53,
   "id": "8630b48e-3377-41dc-add0-22d6bbbfd268",
   "metadata": {},
   "outputs": [
    {
     "name": "stdout",
     "output_type": "stream",
     "text": [
      "40k appears 2 times\n"
     ]
    }
   ],
   "source": [
    "# 7. Count how many times '40k' appears in the list.\n",
    "salaries = ['20k', '40k', '50k', '60k', '35k', '89k','40k']\n",
    "salary_count=salaries.count('40k')\n",
    "print(\"40k appears\",salary_count,\"times\")"
   ]
  },
  {
   "cell_type": "code",
   "execution_count": 59,
   "id": "dc196541-2fc6-4736-b137-e972be9c3825",
   "metadata": {},
   "outputs": [
    {
     "name": "stdout",
     "output_type": "stream",
     "text": [
      "insert the new salary is ['20k', '40k', '50k', '50k', '60k', '35k', '89k', '40k']\n"
     ]
    }
   ],
   "source": [
    "# 8. Insert a new salary at the second position.\n",
    "salaries = ['20k', '40k', '50k', '60k', '35k', '89k','40k']\n",
    "salaries.insert(2,\"50k\")\n",
    "print(\"insert the new salary is\",salaries)"
   ]
  },
  {
   "cell_type": "code",
   "execution_count": 61,
   "id": "82d8da01-f3df-4b32-a154-46f5b896f973",
   "metadata": {},
   "outputs": [
    {
     "name": "stdout",
     "output_type": "stream",
     "text": [
      "reverse salary is ['40k', '89k', '35k', '60k', '50k', '40k', '20k']\n"
     ]
    }
   ],
   "source": [
    "# 9. Reverse the order of the salaries list with method\n",
    "salaries = ['20k', '40k', '50k', '60k', '35k', '89k','40k']\n",
    "salaries.reverse()\n",
    "print(\"reverse salary is\",salaries)"
   ]
  },
  {
   "cell_type": "code",
   "execution_count": 65,
   "id": "b9460b6d-3ed6-4990-82a1-ba0a5b261550",
   "metadata": {},
   "outputs": [
    {
     "name": "stdout",
     "output_type": "stream",
     "text": [
      "the reverse salary is ['40k', '89k', '35k', '60k', '50k', '40k', '20k']\n"
     ]
    }
   ],
   "source": [
    "# 10. Reverse the order of the salaries list without method.\n",
    "salaries = ['20k', '40k', '50k', '60k', '35k', '89k','40k']\n",
    "reverse_salary=salaries[::-1]\n",
    "print(\"the reverse salary is\",reverse_salary)"
   ]
  },
  {
   "cell_type": "code",
   "execution_count": null,
   "id": "0a526119-d864-41e5-80b4-6e4df8e36d39",
   "metadata": {},
   "outputs": [],
   "source": []
  },
  {
   "cell_type": "code",
   "execution_count": null,
   "id": "5a38515f-d64f-4c46-b696-627f0c65d0e7",
   "metadata": {},
   "outputs": [],
   "source": []
  },
  {
   "cell_type": "code",
   "execution_count": null,
   "id": "c4400e7a-c7c6-4874-be17-ae62ffcc19c8",
   "metadata": {},
   "outputs": [],
   "source": []
  },
  {
   "cell_type": "code",
   "execution_count": null,
   "id": "34b10c32-61d2-47c4-9d76-a32e969db9d6",
   "metadata": {},
   "outputs": [],
   "source": []
  },
  {
   "cell_type": "code",
   "execution_count": null,
   "id": "2ba37398-4833-4ff6-9f64-9d80a38725e9",
   "metadata": {},
   "outputs": [],
   "source": []
  },
  {
   "cell_type": "code",
   "execution_count": null,
   "id": "fa7d109e-97d6-44d7-90fa-f96882bee570",
   "metadata": {},
   "outputs": [],
   "source": []
  },
  {
   "cell_type": "code",
   "execution_count": null,
   "id": "258d1660-e0de-42f1-9c6d-588ce5ed11ac",
   "metadata": {},
   "outputs": [],
   "source": []
  },
  {
   "cell_type": "code",
   "execution_count": null,
   "id": "386eb047-a832-418c-b7bb-248fb44d1f3d",
   "metadata": {},
   "outputs": [],
   "source": []
  },
  {
   "cell_type": "code",
   "execution_count": null,
   "id": "a95f6fa8-9443-4c9f-86c8-ed9108b7e999",
   "metadata": {},
   "outputs": [],
   "source": []
  }
 ],
 "metadata": {
  "kernelspec": {
   "display_name": "Python 3 (ipykernel)",
   "language": "python",
   "name": "python3"
  },
  "language_info": {
   "codemirror_mode": {
    "name": "ipython",
    "version": 3
   },
   "file_extension": ".py",
   "mimetype": "text/x-python",
   "name": "python",
   "nbconvert_exporter": "python",
   "pygments_lexer": "ipython3",
   "version": "3.12.7"
  }
 },
 "nbformat": 4,
 "nbformat_minor": 5
}
